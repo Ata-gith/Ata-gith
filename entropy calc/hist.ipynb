{
 "cells": [
  {
   "cell_type": "code",
   "execution_count": 184,
   "metadata": {},
   "outputs": [],
   "source": [
    "import numpy as np\n",
    "import matplotlib.pyplot as plt\n",
    "from scipy.optimize import curve_fit \n",
    "import scipy as scp"
   ]
  },
  {
   "cell_type": "code",
   "execution_count": 185,
   "metadata": {},
   "outputs": [],
   "source": [
    "ef_000=np.loadtxt(\"static_entrp_6_5z_002.txt\",skiprows=1,dtype=float,delimiter=\",\")\n",
    "ef_002=np.loadtxt(\"static_entrp_7z_002.txt\",skiprows=1,dtype=float,delimiter=\",\")\n",
    "ef_004=np.loadtxt(\"static_entrp_7z_004.txt\",skiprows=1,dtype=float,delimiter=\",\")\n",
    "ef_006=np.loadtxt(\"static_entrp_7z_006.txt\",skiprows=1,dtype=float,delimiter=\",\")\n",
    "ef_008=np.loadtxt(\"static_entrp_7z_008.txt\",skiprows=1,dtype=float,delimiter=\",\")\n",
    "ef_010=np.loadtxt(\"static_entrp_7z_01.txt\",skiprows=1,dtype=float,delimiter=\",\")"
   ]
  },
  {
   "cell_type": "code",
   "execution_count": 186,
   "metadata": {},
   "outputs": [],
   "source": [
    "ef_000_6_5z=np.loadtxt(\"static_entrp_6_5z_002.txt\",skiprows=1,dtype=float,delimiter=\",\")\n",
    "ef_002_6_5z=np.loadtxt(\"static_entrp_6_5z_002.txt\",skiprows=1,dtype=float,delimiter=\",\")\n",
    "ef_004_6_5z=np.loadtxt(\"static_entrp_6_5z_004.txt\",skiprows=1,dtype=float,delimiter=\",\")\n",
    "ef_006_6_5z=np.loadtxt(\"static_entrp_6_5z_006.txt\",skiprows=1,dtype=float,delimiter=\",\")\n",
    "ef_008_6_5z=np.loadtxt(\"static_entrp_6_5z_008.txt\",skiprows=1,dtype=float,delimiter=\",\")\n",
    "ef_010_6_5z=np.loadtxt(\"static_entrp_6_5z_01.txt\",skiprows=1,dtype=float,delimiter=\",\")"
   ]
  },
  {
   "cell_type": "code",
   "execution_count": 187,
   "metadata": {},
   "outputs": [],
   "source": [
    "ef_002_6_5z = np.array(ef_002_6_5z)\n",
    "ef_004_6_5z = np.array(ef_004_6_5z)\n",
    "ef_006_6_5z = np.array(ef_006_6_5z)\n",
    "ef_008_6_5z = np.array(ef_008_6_5z)\n",
    "ef_010_6_5z = np.array(ef_010_6_5z)"
   ]
  },
  {
   "cell_type": "code",
   "execution_count": 188,
   "metadata": {},
   "outputs": [],
   "source": [
    "ef_002 = np.array(ef_002)\n",
    "ef_004 = np.array(ef_004)\n",
    "ef_006 = np.array(ef_006)\n",
    "ef_008 = np.array(ef_008)\n",
    "ef_010 = np.array(ef_010)"
   ]
  },
  {
   "cell_type": "code",
   "execution_count": 189,
   "metadata": {},
   "outputs": [
    {
     "name": "stdout",
     "output_type": "stream",
     "text": [
      "[[ 1.00000000e+04 -6.78721876e+00]\n",
      " [ 1.10000000e+04 -6.75837504e+00]\n",
      " [ 1.20000000e+04 -6.76629873e+00]\n",
      " [ 1.30000000e+04 -6.78920570e+00]\n",
      " [ 1.40000000e+04 -6.79323176e+00]\n",
      " [ 1.50000000e+04 -6.76968719e+00]\n",
      " [ 1.60000000e+04 -6.74193217e+00]\n",
      " [ 1.70000000e+04 -6.73473894e+00]\n",
      " [ 1.80000000e+04 -6.73859881e+00]\n",
      " [ 1.90000000e+04 -6.78160221e+00]\n",
      " [ 2.00000000e+04 -6.78349988e+00]\n",
      " [ 2.10000000e+04 -6.75210627e+00]\n",
      " [ 2.20000000e+04 -6.75809282e+00]\n",
      " [ 2.30000000e+04 -6.79291040e+00]\n",
      " [ 2.40000000e+04 -6.78210193e+00]\n",
      " [ 2.50000000e+04 -6.75638021e+00]\n",
      " [ 2.60000000e+04 -6.74736595e+00]\n",
      " [ 2.70000000e+04 -6.71992109e+00]\n",
      " [ 2.80000000e+04 -6.73447170e+00]\n",
      " [ 2.90000000e+04 -6.71936867e+00]\n",
      " [ 3.00000000e+04 -6.74309030e+00]\n",
      " [ 3.10000000e+04 -6.72132541e+00]\n",
      " [ 3.20000000e+04 -6.74913566e+00]\n",
      " [ 3.30000000e+04 -6.74517004e+00]\n",
      " [ 3.40000000e+04 -6.76359988e+00]\n",
      " [ 3.50000000e+04 -6.78370027e+00]\n",
      " [ 3.60000000e+04 -6.73706427e+00]\n",
      " [ 3.70000000e+04 -6.78943355e+00]\n",
      " [ 3.80000000e+04 -6.77079662e+00]\n",
      " [ 3.90000000e+04 -6.77735817e+00]\n",
      " [ 4.00000000e+04 -6.75646680e+00]\n",
      " [ 4.10000000e+04 -6.75467700e+00]\n",
      " [ 4.20000000e+04 -6.77311919e+00]\n",
      " [ 4.30000000e+04 -6.78456329e+00]\n",
      " [ 4.40000000e+04 -6.73618036e+00]\n",
      " [ 4.50000000e+04 -6.77777896e+00]\n",
      " [ 4.60000000e+04 -6.75813707e+00]\n",
      " [ 4.70000000e+04 -6.77365762e+00]\n",
      " [ 4.80000000e+04 -6.78427379e+00]\n",
      " [ 4.90000000e+04 -6.76454710e+00]\n",
      " [ 5.00000000e+04 -6.79662015e+00]\n",
      " [ 5.10000000e+04 -6.78396940e+00]\n",
      " [ 5.20000000e+04 -6.75889696e+00]\n",
      " [ 5.30000000e+04 -6.76072607e+00]\n",
      " [ 5.40000000e+04 -6.72624040e+00]\n",
      " [ 5.50000000e+04 -6.73428254e+00]\n",
      " [ 5.60000000e+04 -6.78128956e+00]\n",
      " [ 5.70000000e+04 -6.72206456e+00]\n",
      " [ 5.80000000e+04 -6.75987502e+00]\n",
      " [ 5.90000000e+04 -6.77281699e+00]\n",
      " [ 6.00000000e+04 -6.80536074e+00]\n",
      " [ 6.10000000e+04 -6.79207306e+00]\n",
      " [ 6.20000000e+04 -6.77701240e+00]\n",
      " [ 6.30000000e+04 -6.78993357e+00]\n",
      " [ 6.40000000e+04 -6.75682002e+00]\n",
      " [ 6.50000000e+04 -6.77442783e+00]\n",
      " [ 6.60000000e+04 -6.80040692e+00]\n",
      " [ 6.70000000e+04 -6.78954569e+00]\n",
      " [ 6.80000000e+04 -6.79539730e+00]\n",
      " [ 6.90000000e+04 -6.76143892e+00]\n",
      " [ 7.00000000e+04 -6.78383463e+00]\n",
      " [ 7.10000000e+04 -6.83036201e+00]\n",
      " [ 7.20000000e+04 -6.74812781e+00]\n",
      " [ 7.30000000e+04 -6.77675959e+00]\n",
      " [ 7.40000000e+04 -6.73501119e+00]\n",
      " [ 7.50000000e+04 -6.75178494e+00]\n",
      " [ 7.60000000e+04 -6.75268108e+00]\n",
      " [ 7.70000000e+04 -6.76889382e+00]\n",
      " [ 7.80000000e+04 -6.78648428e+00]\n",
      " [ 7.90000000e+04 -6.77837003e+00]\n",
      " [ 8.00000000e+04 -6.77471019e+00]\n",
      " [ 8.10000000e+04 -6.76995228e+00]\n",
      " [ 8.20000000e+04 -6.74435677e+00]\n",
      " [ 8.30000000e+04 -6.76817183e+00]\n",
      " [ 8.40000000e+04 -6.77596538e+00]\n",
      " [ 8.50000000e+04 -6.77874131e+00]\n",
      " [ 8.60000000e+04 -6.80593256e+00]\n",
      " [ 8.70000000e+04 -6.81633667e+00]\n",
      " [ 8.80000000e+04 -6.78604857e+00]\n",
      " [ 8.90000000e+04 -6.79804971e+00]\n",
      " [ 9.00000000e+04 -6.78541191e+00]\n",
      " [ 9.10000000e+04 -6.75089715e+00]\n",
      " [ 9.20000000e+04 -6.77753409e+00]\n",
      " [ 9.30000000e+04 -6.76324957e+00]\n",
      " [ 9.40000000e+04 -6.76169713e+00]\n",
      " [ 9.50000000e+04 -6.78181939e+00]\n",
      " [ 9.60000000e+04 -6.81965169e+00]\n",
      " [ 9.70000000e+04 -6.76913402e+00]\n",
      " [ 9.80000000e+04 -6.76502873e+00]\n",
      " [ 9.90000000e+04 -6.74618059e+00]\n",
      " [ 1.00000000e+05 -6.73375947e+00]]\n"
     ]
    }
   ],
   "source": [
    "\n",
    "print(ef_004_6_5z)"
   ]
  },
  {
   "cell_type": "code",
   "execution_count": 190,
   "metadata": {},
   "outputs": [],
   "source": [
    "varef_000=np.std(ef_000[:,1])#/np.sqrt(np.size(ef_000[:,1]))\n",
    "varef_002=np.std(ef_002[:,1])#/np.sqrt(np.size(ef_002[:,1]))\n",
    "varef_004=np.std(ef_004[:,1])#/np.sqrt(np.size(ef_004[:,1]))\n",
    "varef_006=np.std(ef_006[:,1])#/np.sqrt(np.size(ef_006[:,1]))\n",
    "varef_008=np.std(ef_008[:,1])#/np.sqrt(np.size(ef_008[:,1]))\n",
    "varef_010=np.std(ef_010[:,1])#/np.sqrt(np.size(ef_010[:,1]))"
   ]
  },
  {
   "cell_type": "code",
   "execution_count": 191,
   "metadata": {},
   "outputs": [],
   "source": [
    "varef_002_6_5z=np.std(ef_002_6_5z[:,1])#/np.sqrt(np.size(ef_002[:,1]))\n",
    "varef_004_6_5z=np.std(ef_004_6_5z[:,1])#/np.sqrt(np.size(ef_004[:,1]))\n",
    "varef_006_6_5z=np.std(ef_006_6_5z[:,1])#/np.sqrt(np.size(ef_006[:,1]))\n",
    "varef_008_6_5z=np.std(ef_008_6_5z[:,1])#/np.sqrt(np.size(ef_008[:,1]))\n",
    "varef_010_6_5z=np.std(ef_010_6_5z[:,1])#/np.sqrt(np.size(ef_010[:,1]))"
   ]
  },
  {
   "cell_type": "code",
   "execution_count": 192,
   "metadata": {},
   "outputs": [],
   "source": [
    "ef_000 = np.average(ef_000[:,1])\n",
    "ef_002 = np.average(ef_002[:,1])\n",
    "ef_004 = np.average(ef_004[:,1])\n",
    "ef_006 = np.average(ef_006[:,1])\n",
    "ef_008 = np.average(ef_008[:,1])\n",
    "ef_010 = np.average(ef_010[:,1])"
   ]
  },
  {
   "cell_type": "code",
   "execution_count": 193,
   "metadata": {},
   "outputs": [],
   "source": [
    "\n",
    "ef_002_6_5z = np.average(ef_002_6_5z[:,1])\n",
    "ef_004_6_5z = np.average(ef_004_6_5z[:,1])\n",
    "ef_006_6_5z = np.average(ef_006_6_5z[:,1])\n",
    "ef_008_6_5z = np.average(ef_008_6_5z[:,1])\n",
    "ef_010_6_5z = np.average(ef_010_6_5z[:,1])"
   ]
  },
  {
   "cell_type": "code",
   "execution_count": 194,
   "metadata": {},
   "outputs": [],
   "source": [
    "avgs    = [ef_000,ef_002,ef_004,ef_006,ef_008,ef_010]\n",
    "errs    =  [0,varef_002,varef_004,varef_006,varef_008,varef_010]\n",
    "\n",
    "avgs6_5 = [ef_000,ef_002_6_5z,ef_004_6_5z,ef_006_6_5z,ef_008_6_5z,ef_010_6_5z]\n",
    "errs6_5 = [0,varef_002_6_5z,varef_004_6_5z,varef_006_6_5z,varef_008_6_5z,varef_010_6_5z]"
   ]
  },
  {
   "cell_type": "code",
   "execution_count": 195,
   "metadata": {},
   "outputs": [
    {
     "name": "stdout",
     "output_type": "stream",
     "text": [
      "[-6.77348634 -6.42084832 -5.23159897 -5.40694408 -5.40993723 -5.37013241]\n",
      "[-6.77348634 -6.77348634 -6.76786066 -6.76232985 -6.73925823 -6.76459961]\n"
     ]
    }
   ],
   "source": [
    "print(np.array(avgs))\n",
    "print(np.array(avgs6_5))"
   ]
  },
  {
   "cell_type": "code",
   "execution_count": 196,
   "metadata": {},
   "outputs": [
    {
     "name": "stdout",
     "output_type": "stream",
     "text": [
      "[0.   0.02 0.04 0.06 0.08 0.1 ]\n"
     ]
    }
   ],
   "source": [
    "lims = np.linspace(0,0.1,6)\n",
    "print(lims)\n",
    "kb = 0.001987204259"
   ]
  },
  {
   "cell_type": "code",
   "execution_count": 197,
   "metadata": {},
   "outputs": [
    {
     "name": "stdout",
     "output_type": "stream",
     "text": [
      "[-6.77348634 -6.42084832 -5.23159897 -5.40694408 -5.40993723 -5.37013241]\n"
     ]
    }
   ],
   "source": [
    "print(np.array(avgs))"
   ]
  },
  {
   "cell_type": "code",
   "execution_count": 198,
   "metadata": {},
   "outputs": [],
   "source": [
    "avgs = np.array(avgs)\n",
    "errs = np.array(errs)\n",
    "\n",
    "avgs6_5 = np.array(avgs6_5)\n",
    "errs6_5 = np.array(errs6_5)"
   ]
  },
  {
   "cell_type": "code",
   "execution_count": 199,
   "metadata": {},
   "outputs": [
    {
     "name": "stdout",
     "output_type": "stream",
     "text": [
      "[-6.77348634 -6.42084832 -5.23159897 -5.40694408 -5.40993723 -5.37013241]\n",
      "[-6.77348634 -6.77348634 -6.76786066 -6.76232985 -6.73925823 -6.76459961]\n"
     ]
    }
   ],
   "source": [
    "print(avgs)\n",
    "print(avgs6_5)"
   ]
  },
  {
   "cell_type": "code",
   "execution_count": 201,
   "metadata": {},
   "outputs": [
    {
     "data": {
      "text/plain": [
       "([<matplotlib.axis.YTick at 0x2a1013996d0>,\n",
       "  <matplotlib.axis.YTick at 0x2a101387f90>,\n",
       "  <matplotlib.axis.YTick at 0x2a1013b8390>,\n",
       "  <matplotlib.axis.YTick at 0x2a1013ddf90>],\n",
       " [Text(0, -7.0, '−7.0'),\n",
       "  Text(0, -6.5, '−6.5'),\n",
       "  Text(0, -6.0, '−6.0'),\n",
       "  Text(0, -5.5, '−5.5')])"
      ]
     },
     "execution_count": 201,
     "metadata": {},
     "output_type": "execute_result"
    },
    {
     "data": {
      "image/png": "[encoded data removed]",
      "text/plain": [
       "<Figure size 640x480 with 1 Axes>"
      ]
     },
     "metadata": {},
     "output_type": "display_data"
    }
   ],
   "source": [
    "plt.errorbar(lims,avgs,yerr=errs,capsize=5,capthick=5,lw=3)\n",
    "plt.errorbar(lims,avgs6_5,yerr=errs6_5,capsize=5,capthick=5,lw=3)\n",
    "plt.xlim([0,0.1])\n",
    "plt.ylim([-4,-7])\n",
    "plt.xticks(fontsize=16)\n",
    "plt.yticks(np.arange(-7,-4, 0.5,dtype=float),fontsize=16)\n"
   ]
  },
  {
   "cell_type": "code",
   "execution_count": null,
   "metadata": {},
   "outputs": [],
   "source": []
  }
 ],
 "metadata": {
  "kernelspec": {
   "display_name": "Python 3",
   "language": "python",
   "name": "python3"
  },
  "language_info": {
   "codemirror_mode": {
    "name": "ipython",
    "version": 3
   },
   "file_extension": ".py",
   "mimetype": "text/x-python",
   "name": "python",
   "nbconvert_exporter": "python",
   "pygments_lexer": "ipython3",
   "version": "3.11.7"
  }
 },
 "nbformat": 4,
 "nbformat_minor": 2
}
